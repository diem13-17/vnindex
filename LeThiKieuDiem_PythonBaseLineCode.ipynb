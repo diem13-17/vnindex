{
  "nbformat": 4,
  "nbformat_minor": 0,
  "metadata": {
    "colab": {
      "provenance": [],
      "toc_visible": true
    },
    "kernelspec": {
      "name": "python3",
      "display_name": "Python 3"
    },
    "language_info": {
      "name": "python"
    }
  },
  "cells": [
    {
      "cell_type": "markdown",
      "source": [
        "#Đọc dữ liệu"
      ],
      "metadata": {
        "id": "fvU3boW7Dq8E"
      }
    },
    {
      "cell_type": "code",
      "source": [
        "import pandas as pd\n",
        "from datetime import datetime\n",
        "dateparse = lambda x: datetime.strptime(x, '%d/%m/%Y')\n",
        "data=pd.read_csv('https://raw.githubusercontent.com/diem13-17/vnindex/main/VN-Index.csv' ,parse_dates=['Date'], date_parser=dateparse)"
      ],
      "metadata": {
        "id": "0ys5rcG_RrSI"
      },
      "execution_count": 398,
      "outputs": []
    },
    {
      "cell_type": "code",
      "source": [
        "data['Date'] = pd.to_datetime(data['Date']).dt.strftime('%d/%m/%Y')\n"
      ],
      "metadata": {
        "id": "gets9L3-ECng"
      },
      "execution_count": 399,
      "outputs": []
    },
    {
      "cell_type": "code",
      "source": [
        "data['volume'][43]=data['volume'][42]\n",
        "data['change'][43]=data['change'][42]"
      ],
      "metadata": {
        "id": "5kYOcs9VRIzI"
      },
      "execution_count": 400,
      "outputs": []
    },
    {
      "cell_type": "code",
      "source": [
        "import re"
      ],
      "metadata": {
        "id": "BKP6BgtWI37m"
      },
      "execution_count": 401,
      "outputs": []
    },
    {
      "cell_type": "code",
      "source": [
        "data['close']=data['close'].apply(lambda x: re.sub(\"[^\\d\\.]\", \"\", x))\n",
        "data['open']=data['open'].apply(lambda x: re.sub(\"[^\\d\\.]\", \"\", x))\n",
        "data['high']=data['high'].apply(lambda x: re.sub(\"[^\\d\\.]\", \"\", x))\n",
        "data['low']=data['low'].apply(lambda x: re.sub(\"[^\\d\\.]\", \"\", x))\n",
        "data['change']=data['change'].str.rstrip(\"%\").astype(float)/100"
      ],
      "metadata": {
        "id": "M8e06xxJHCL5"
      },
      "execution_count": 402,
      "outputs": []
    },
    {
      "cell_type": "code",
      "source": [
        "for value in range (0,52):\n",
        "  if 'M' in data['volume'][value]:\n",
        "    data['volume'][value]=float(re.findall(\"\\d+\\.\\d+\", data['volume'][value])[0])*1000000\n",
        "  elif 'K' in data['volume'][value]:\n",
        "    data['volume'][value]=float(re.findall(\"\\d+\\.\\d+\", data['volume'][value])[0])*1000\n"
      ],
      "metadata": {
        "colab": {
          "base_uri": "https://localhost:8080/"
        },
        "id": "VQoEFY_kKjqv",
        "outputId": "c9d4f220-b941-4738-a568-38da21aa51a3"
      },
      "execution_count": 403,
      "outputs": [
        {
          "output_type": "stream",
          "name": "stderr",
          "text": [
            "<ipython-input-403-d1c3f8462eea>:3: SettingWithCopyWarning: \n",
            "A value is trying to be set on a copy of a slice from a DataFrame\n",
            "\n",
            "See the caveats in the documentation: https://pandas.pydata.org/pandas-docs/stable/user_guide/indexing.html#returning-a-view-versus-a-copy\n",
            "  data['volume'][value]=float(re.findall(\"\\d+\\.\\d+\", data['volume'][value])[0])*1000000\n",
            "<ipython-input-403-d1c3f8462eea>:5: SettingWithCopyWarning: \n",
            "A value is trying to be set on a copy of a slice from a DataFrame\n",
            "\n",
            "See the caveats in the documentation: https://pandas.pydata.org/pandas-docs/stable/user_guide/indexing.html#returning-a-view-versus-a-copy\n",
            "  data['volume'][value]=float(re.findall(\"\\d+\\.\\d+\", data['volume'][value])[0])*1000\n"
          ]
        }
      ]
    },
    {
      "cell_type": "code",
      "source": [
        "data"
      ],
      "metadata": {
        "colab": {
          "base_uri": "https://localhost:8080/",
          "height": 1000
        },
        "id": "OhU4ebk6QCVH",
        "outputId": "985361bb-722e-4fe6-95a6-263985bc6ca7"
      },
      "execution_count": 404,
      "outputs": [
        {
          "output_type": "execute_result",
          "data": {
            "text/plain": [
              "          Date    close     open     high      low     volume  change\n",
              "0   27/11/2022  1080.01   971.46  1080.01   971.46  1090000.0  0.1117\n",
              "1   20/11/2022   971.46   969.33   985.28   934.31   622500.0  0.0022\n",
              "2   13/11/2022   969.33   954.53   972.88   873.78   960580.0  0.0155\n",
              "3   06/11/2022   954.53   997.15   997.15   935.78  3330000.0 -0.0427\n",
              "4   30/10/2022   997.15  1028.24  1043.53   974.61  3050000.0 -0.0294\n",
              "5   23/10/2022  1027.36  1019.82  1044.57   962.45  3160000.0  0.0074\n",
              "6   16/10/2022  1019.82  1061.85  1071.74  1013.69  2550000.0 -0.0396\n",
              "7   09/10/2022  1061.85  1035.91  1068.12   998.64  3100000.0  0.0250\n",
              "8   02/10/2022  1035.91  1132.11  1132.11  1022.38  3010000.0 -0.0850\n",
              "9   25/09/2022  1132.11  1203.28  1203.28  1099.44  2970000.0 -0.0591\n",
              "10  18/09/2022  1203.28  1234.03  1234.03  1196.64  2530000.0 -0.0249\n",
              "11  11/09/2022  1234.03  1248.78  1257.80  1228.51  2550000.0 -0.0118\n",
              "12  04/09/2022  1248.78  1280.51  1286.92  1228.54  3140000.0 -0.0248\n",
              "13  28/08/2022  1280.51  1282.57  1287.65  1249.17  1870000.0 -0.0016\n",
              "14  21/08/2022  1282.57  1269.18  1295.12  1253.45  3080000.0  0.0106\n",
              "15  14/08/2022  1269.18  1262.33  1283.15  1262.33  3170000.0  0.0054\n",
              "16  07/08/2022  1262.33  1252.36  1268.03  1245.85  3430000.0  0.0077\n",
              "17  31/07/2022  1252.74  1206.33  1257.38  1206.33  3740000.0  0.0385\n",
              "18  24/07/2022  1206.33  1191.43  1217.84  1178.58  2580000.0  0.0097\n",
              "19  17/07/2022  1194.76  1179.25  1202.69  1168.99  2710000.0  0.0132\n",
              "20  10/07/2022  1179.25  1171.31  1189.66  1144.55  2770000.0  0.0068\n",
              "21  03/07/2022  1171.31  1206.47  1208.96  1142.80  2500000.0 -0.0230\n",
              "22  26/06/2022  1198.90  1185.48  1221.74  1170.95  2720000.0  0.0113\n",
              "23  19/06/2022  1185.48  1218.37  1221.60  1162.06  2880000.0 -0.0261\n",
              "24  12/06/2022  1217.30  1284.08  1284.08  1191.92  3280000.0 -0.0520\n",
              "25  05/06/2022  1284.08  1287.98  1316.78  1260.92  2910000.0 -0.0030\n",
              "26  29/05/2022  1287.98  1285.45  1302.66  1276.37  2800000.0  0.0020\n",
              "27  22/05/2022  1285.45  1240.71  1286.99  1203.28  2890000.0  0.0361\n",
              "28  15/05/2022  1240.71  1182.77  1252.96  1156.54  2740000.0  0.0490\n",
              "29  08/05/2022  1182.77  1329.26  1329.26  1180.60  3130000.0 -0.1102\n",
              "30  01/05/2022  1329.26  1366.11  1366.39  1328.13  1620000.0 -0.0275\n",
              "31  24/04/2022  1366.80  1379.23  1382.13  1261.40  3090000.0 -0.0090\n",
              "32  17/04/2022  1379.23  1458.56  1458.56  1352.43  3860000.0 -0.0544\n",
              "33  10/04/2022  1458.56  1482.00  1490.58  1448.52  2540000.0 -0.0158\n",
              "34  03/04/2022  1482.00  1516.44  1530.95  1482.00  3990000.0 -0.0227\n",
              "35  27/03/2022  1516.44  1498.50  1516.87  1473.80  4360000.0  0.0120\n",
              "36  20/03/2022  1498.50  1474.78  1513.90  1474.38  4150000.0  0.0200\n",
              "37  13/03/2022  1469.10  1466.54  1474.86  1437.27  3670000.0  0.0017\n",
              "38  06/03/2022  1466.54  1505.33  1505.33  1458.88  4480000.0 -0.0258\n",
              "39  27/02/2022  1505.33  1498.89  1509.19  1479.55  4370000.0  0.0043\n",
              "40  20/02/2022  1498.89  1504.84  1520.78  1473.76  4320000.0 -0.0040\n",
              "41  13/02/2022  1504.84  1501.71  1507.99  1470.06  3430000.0  0.0021\n",
              "42  06/02/2022  1501.71  1478.96  1512.88  1478.96  3420000.0  0.0154\n",
              "43  30/01/2022  1478.96  1478.96  1478.96  1478.96  3420000.0  0.0154\n",
              "44  23/01/2022  1478.96  1472.89  1490.45  1424.36  3660000.0  0.0041\n",
              "45  16/01/2022  1472.89  1496.02  1503.86  1424.65  3960000.0 -0.0155\n",
              "46  09/01/2022  1496.02  1528.48  1536.45  1464.49  5540000.0 -0.0212\n",
              "47  02/01/2022  1528.48  1508.55  1536.24  1507.19  4110000.0  0.0202\n",
              "48  26/12/2021  1498.28  1477.03  1499.77  1469.91  4220000.0  0.0144\n",
              "49  19/12/2021  1477.03  1479.79  1489.24  1447.14  5190000.0 -0.0019\n",
              "50  12/12/2021  1479.79  1463.54  1487.73  1463.54  4780000.0  0.0111\n",
              "51  05/12/2021  1463.54  1443.32  1475.85  1400.87  4030000.0  0.0140"
            ],
            "text/html": [
              "\n",
              "  <div id=\"df-5678e5d9-46f0-4d1c-8f2f-b6dfd61d4a2c\">\n",
              "    <div class=\"colab-df-container\">\n",
              "      <div>\n",
              "<style scoped>\n",
              "    .dataframe tbody tr th:only-of-type {\n",
              "        vertical-align: middle;\n",
              "    }\n",
              "\n",
              "    .dataframe tbody tr th {\n",
              "        vertical-align: top;\n",
              "    }\n",
              "\n",
              "    .dataframe thead th {\n",
              "        text-align: right;\n",
              "    }\n",
              "</style>\n",
              "<table border=\"1\" class=\"dataframe\">\n",
              "  <thead>\n",
              "    <tr style=\"text-align: right;\">\n",
              "      <th></th>\n",
              "      <th>Date</th>\n",
              "      <th>close</th>\n",
              "      <th>open</th>\n",
              "      <th>high</th>\n",
              "      <th>low</th>\n",
              "      <th>volume</th>\n",
              "      <th>change</th>\n",
              "    </tr>\n",
              "  </thead>\n",
              "  <tbody>\n",
              "    <tr>\n",
              "      <th>0</th>\n",
              "      <td>27/11/2022</td>\n",
              "      <td>1080.01</td>\n",
              "      <td>971.46</td>\n",
              "      <td>1080.01</td>\n",
              "      <td>971.46</td>\n",
              "      <td>1090000.0</td>\n",
              "      <td>0.1117</td>\n",
              "    </tr>\n",
              "    <tr>\n",
              "      <th>1</th>\n",
              "      <td>20/11/2022</td>\n",
              "      <td>971.46</td>\n",
              "      <td>969.33</td>\n",
              "      <td>985.28</td>\n",
              "      <td>934.31</td>\n",
              "      <td>622500.0</td>\n",
              "      <td>0.0022</td>\n",
              "    </tr>\n",
              "    <tr>\n",
              "      <th>2</th>\n",
              "      <td>13/11/2022</td>\n",
              "      <td>969.33</td>\n",
              "      <td>954.53</td>\n",
              "      <td>972.88</td>\n",
              "      <td>873.78</td>\n",
              "      <td>960580.0</td>\n",
              "      <td>0.0155</td>\n",
              "    </tr>\n",
              "    <tr>\n",
              "      <th>3</th>\n",
              "      <td>06/11/2022</td>\n",
              "      <td>954.53</td>\n",
              "      <td>997.15</td>\n",
              "      <td>997.15</td>\n",
              "      <td>935.78</td>\n",
              "      <td>3330000.0</td>\n",
              "      <td>-0.0427</td>\n",
              "    </tr>\n",
              "    <tr>\n",
              "      <th>4</th>\n",
              "      <td>30/10/2022</td>\n",
              "      <td>997.15</td>\n",
              "      <td>1028.24</td>\n",
              "      <td>1043.53</td>\n",
              "      <td>974.61</td>\n",
              "      <td>3050000.0</td>\n",
              "      <td>-0.0294</td>\n",
              "    </tr>\n",
              "    <tr>\n",
              "      <th>5</th>\n",
              "      <td>23/10/2022</td>\n",
              "      <td>1027.36</td>\n",
              "      <td>1019.82</td>\n",
              "      <td>1044.57</td>\n",
              "      <td>962.45</td>\n",
              "      <td>3160000.0</td>\n",
              "      <td>0.0074</td>\n",
              "    </tr>\n",
              "    <tr>\n",
              "      <th>6</th>\n",
              "      <td>16/10/2022</td>\n",
              "      <td>1019.82</td>\n",
              "      <td>1061.85</td>\n",
              "      <td>1071.74</td>\n",
              "      <td>1013.69</td>\n",
              "      <td>2550000.0</td>\n",
              "      <td>-0.0396</td>\n",
              "    </tr>\n",
              "    <tr>\n",
              "      <th>7</th>\n",
              "      <td>09/10/2022</td>\n",
              "      <td>1061.85</td>\n",
              "      <td>1035.91</td>\n",
              "      <td>1068.12</td>\n",
              "      <td>998.64</td>\n",
              "      <td>3100000.0</td>\n",
              "      <td>0.0250</td>\n",
              "    </tr>\n",
              "    <tr>\n",
              "      <th>8</th>\n",
              "      <td>02/10/2022</td>\n",
              "      <td>1035.91</td>\n",
              "      <td>1132.11</td>\n",
              "      <td>1132.11</td>\n",
              "      <td>1022.38</td>\n",
              "      <td>3010000.0</td>\n",
              "      <td>-0.0850</td>\n",
              "    </tr>\n",
              "    <tr>\n",
              "      <th>9</th>\n",
              "      <td>25/09/2022</td>\n",
              "      <td>1132.11</td>\n",
              "      <td>1203.28</td>\n",
              "      <td>1203.28</td>\n",
              "      <td>1099.44</td>\n",
              "      <td>2970000.0</td>\n",
              "      <td>-0.0591</td>\n",
              "    </tr>\n",
              "    <tr>\n",
              "      <th>10</th>\n",
              "      <td>18/09/2022</td>\n",
              "      <td>1203.28</td>\n",
              "      <td>1234.03</td>\n",
              "      <td>1234.03</td>\n",
              "      <td>1196.64</td>\n",
              "      <td>2530000.0</td>\n",
              "      <td>-0.0249</td>\n",
              "    </tr>\n",
              "    <tr>\n",
              "      <th>11</th>\n",
              "      <td>11/09/2022</td>\n",
              "      <td>1234.03</td>\n",
              "      <td>1248.78</td>\n",
              "      <td>1257.80</td>\n",
              "      <td>1228.51</td>\n",
              "      <td>2550000.0</td>\n",
              "      <td>-0.0118</td>\n",
              "    </tr>\n",
              "    <tr>\n",
              "      <th>12</th>\n",
              "      <td>04/09/2022</td>\n",
              "      <td>1248.78</td>\n",
              "      <td>1280.51</td>\n",
              "      <td>1286.92</td>\n",
              "      <td>1228.54</td>\n",
              "      <td>3140000.0</td>\n",
              "      <td>-0.0248</td>\n",
              "    </tr>\n",
              "    <tr>\n",
              "      <th>13</th>\n",
              "      <td>28/08/2022</td>\n",
              "      <td>1280.51</td>\n",
              "      <td>1282.57</td>\n",
              "      <td>1287.65</td>\n",
              "      <td>1249.17</td>\n",
              "      <td>1870000.0</td>\n",
              "      <td>-0.0016</td>\n",
              "    </tr>\n",
              "    <tr>\n",
              "      <th>14</th>\n",
              "      <td>21/08/2022</td>\n",
              "      <td>1282.57</td>\n",
              "      <td>1269.18</td>\n",
              "      <td>1295.12</td>\n",
              "      <td>1253.45</td>\n",
              "      <td>3080000.0</td>\n",
              "      <td>0.0106</td>\n",
              "    </tr>\n",
              "    <tr>\n",
              "      <th>15</th>\n",
              "      <td>14/08/2022</td>\n",
              "      <td>1269.18</td>\n",
              "      <td>1262.33</td>\n",
              "      <td>1283.15</td>\n",
              "      <td>1262.33</td>\n",
              "      <td>3170000.0</td>\n",
              "      <td>0.0054</td>\n",
              "    </tr>\n",
              "    <tr>\n",
              "      <th>16</th>\n",
              "      <td>07/08/2022</td>\n",
              "      <td>1262.33</td>\n",
              "      <td>1252.36</td>\n",
              "      <td>1268.03</td>\n",
              "      <td>1245.85</td>\n",
              "      <td>3430000.0</td>\n",
              "      <td>0.0077</td>\n",
              "    </tr>\n",
              "    <tr>\n",
              "      <th>17</th>\n",
              "      <td>31/07/2022</td>\n",
              "      <td>1252.74</td>\n",
              "      <td>1206.33</td>\n",
              "      <td>1257.38</td>\n",
              "      <td>1206.33</td>\n",
              "      <td>3740000.0</td>\n",
              "      <td>0.0385</td>\n",
              "    </tr>\n",
              "    <tr>\n",
              "      <th>18</th>\n",
              "      <td>24/07/2022</td>\n",
              "      <td>1206.33</td>\n",
              "      <td>1191.43</td>\n",
              "      <td>1217.84</td>\n",
              "      <td>1178.58</td>\n",
              "      <td>2580000.0</td>\n",
              "      <td>0.0097</td>\n",
              "    </tr>\n",
              "    <tr>\n",
              "      <th>19</th>\n",
              "      <td>17/07/2022</td>\n",
              "      <td>1194.76</td>\n",
              "      <td>1179.25</td>\n",
              "      <td>1202.69</td>\n",
              "      <td>1168.99</td>\n",
              "      <td>2710000.0</td>\n",
              "      <td>0.0132</td>\n",
              "    </tr>\n",
              "    <tr>\n",
              "      <th>20</th>\n",
              "      <td>10/07/2022</td>\n",
              "      <td>1179.25</td>\n",
              "      <td>1171.31</td>\n",
              "      <td>1189.66</td>\n",
              "      <td>1144.55</td>\n",
              "      <td>2770000.0</td>\n",
              "      <td>0.0068</td>\n",
              "    </tr>\n",
              "    <tr>\n",
              "      <th>21</th>\n",
              "      <td>03/07/2022</td>\n",
              "      <td>1171.31</td>\n",
              "      <td>1206.47</td>\n",
              "      <td>1208.96</td>\n",
              "      <td>1142.80</td>\n",
              "      <td>2500000.0</td>\n",
              "      <td>-0.0230</td>\n",
              "    </tr>\n",
              "    <tr>\n",
              "      <th>22</th>\n",
              "      <td>26/06/2022</td>\n",
              "      <td>1198.90</td>\n",
              "      <td>1185.48</td>\n",
              "      <td>1221.74</td>\n",
              "      <td>1170.95</td>\n",
              "      <td>2720000.0</td>\n",
              "      <td>0.0113</td>\n",
              "    </tr>\n",
              "    <tr>\n",
              "      <th>23</th>\n",
              "      <td>19/06/2022</td>\n",
              "      <td>1185.48</td>\n",
              "      <td>1218.37</td>\n",
              "      <td>1221.60</td>\n",
              "      <td>1162.06</td>\n",
              "      <td>2880000.0</td>\n",
              "      <td>-0.0261</td>\n",
              "    </tr>\n",
              "    <tr>\n",
              "      <th>24</th>\n",
              "      <td>12/06/2022</td>\n",
              "      <td>1217.30</td>\n",
              "      <td>1284.08</td>\n",
              "      <td>1284.08</td>\n",
              "      <td>1191.92</td>\n",
              "      <td>3280000.0</td>\n",
              "      <td>-0.0520</td>\n",
              "    </tr>\n",
              "    <tr>\n",
              "      <th>25</th>\n",
              "      <td>05/06/2022</td>\n",
              "      <td>1284.08</td>\n",
              "      <td>1287.98</td>\n",
              "      <td>1316.78</td>\n",
              "      <td>1260.92</td>\n",
              "      <td>2910000.0</td>\n",
              "      <td>-0.0030</td>\n",
              "    </tr>\n",
              "    <tr>\n",
              "      <th>26</th>\n",
              "      <td>29/05/2022</td>\n",
              "      <td>1287.98</td>\n",
              "      <td>1285.45</td>\n",
              "      <td>1302.66</td>\n",
              "      <td>1276.37</td>\n",
              "      <td>2800000.0</td>\n",
              "      <td>0.0020</td>\n",
              "    </tr>\n",
              "    <tr>\n",
              "      <th>27</th>\n",
              "      <td>22/05/2022</td>\n",
              "      <td>1285.45</td>\n",
              "      <td>1240.71</td>\n",
              "      <td>1286.99</td>\n",
              "      <td>1203.28</td>\n",
              "      <td>2890000.0</td>\n",
              "      <td>0.0361</td>\n",
              "    </tr>\n",
              "    <tr>\n",
              "      <th>28</th>\n",
              "      <td>15/05/2022</td>\n",
              "      <td>1240.71</td>\n",
              "      <td>1182.77</td>\n",
              "      <td>1252.96</td>\n",
              "      <td>1156.54</td>\n",
              "      <td>2740000.0</td>\n",
              "      <td>0.0490</td>\n",
              "    </tr>\n",
              "    <tr>\n",
              "      <th>29</th>\n",
              "      <td>08/05/2022</td>\n",
              "      <td>1182.77</td>\n",
              "      <td>1329.26</td>\n",
              "      <td>1329.26</td>\n",
              "      <td>1180.60</td>\n",
              "      <td>3130000.0</td>\n",
              "      <td>-0.1102</td>\n",
              "    </tr>\n",
              "    <tr>\n",
              "      <th>30</th>\n",
              "      <td>01/05/2022</td>\n",
              "      <td>1329.26</td>\n",
              "      <td>1366.11</td>\n",
              "      <td>1366.39</td>\n",
              "      <td>1328.13</td>\n",
              "      <td>1620000.0</td>\n",
              "      <td>-0.0275</td>\n",
              "    </tr>\n",
              "    <tr>\n",
              "      <th>31</th>\n",
              "      <td>24/04/2022</td>\n",
              "      <td>1366.80</td>\n",
              "      <td>1379.23</td>\n",
              "      <td>1382.13</td>\n",
              "      <td>1261.40</td>\n",
              "      <td>3090000.0</td>\n",
              "      <td>-0.0090</td>\n",
              "    </tr>\n",
              "    <tr>\n",
              "      <th>32</th>\n",
              "      <td>17/04/2022</td>\n",
              "      <td>1379.23</td>\n",
              "      <td>1458.56</td>\n",
              "      <td>1458.56</td>\n",
              "      <td>1352.43</td>\n",
              "      <td>3860000.0</td>\n",
              "      <td>-0.0544</td>\n",
              "    </tr>\n",
              "    <tr>\n",
              "      <th>33</th>\n",
              "      <td>10/04/2022</td>\n",
              "      <td>1458.56</td>\n",
              "      <td>1482.00</td>\n",
              "      <td>1490.58</td>\n",
              "      <td>1448.52</td>\n",
              "      <td>2540000.0</td>\n",
              "      <td>-0.0158</td>\n",
              "    </tr>\n",
              "    <tr>\n",
              "      <th>34</th>\n",
              "      <td>03/04/2022</td>\n",
              "      <td>1482.00</td>\n",
              "      <td>1516.44</td>\n",
              "      <td>1530.95</td>\n",
              "      <td>1482.00</td>\n",
              "      <td>3990000.0</td>\n",
              "      <td>-0.0227</td>\n",
              "    </tr>\n",
              "    <tr>\n",
              "      <th>35</th>\n",
              "      <td>27/03/2022</td>\n",
              "      <td>1516.44</td>\n",
              "      <td>1498.50</td>\n",
              "      <td>1516.87</td>\n",
              "      <td>1473.80</td>\n",
              "      <td>4360000.0</td>\n",
              "      <td>0.0120</td>\n",
              "    </tr>\n",
              "    <tr>\n",
              "      <th>36</th>\n",
              "      <td>20/03/2022</td>\n",
              "      <td>1498.50</td>\n",
              "      <td>1474.78</td>\n",
              "      <td>1513.90</td>\n",
              "      <td>1474.38</td>\n",
              "      <td>4150000.0</td>\n",
              "      <td>0.0200</td>\n",
              "    </tr>\n",
              "    <tr>\n",
              "      <th>37</th>\n",
              "      <td>13/03/2022</td>\n",
              "      <td>1469.10</td>\n",
              "      <td>1466.54</td>\n",
              "      <td>1474.86</td>\n",
              "      <td>1437.27</td>\n",
              "      <td>3670000.0</td>\n",
              "      <td>0.0017</td>\n",
              "    </tr>\n",
              "    <tr>\n",
              "      <th>38</th>\n",
              "      <td>06/03/2022</td>\n",
              "      <td>1466.54</td>\n",
              "      <td>1505.33</td>\n",
              "      <td>1505.33</td>\n",
              "      <td>1458.88</td>\n",
              "      <td>4480000.0</td>\n",
              "      <td>-0.0258</td>\n",
              "    </tr>\n",
              "    <tr>\n",
              "      <th>39</th>\n",
              "      <td>27/02/2022</td>\n",
              "      <td>1505.33</td>\n",
              "      <td>1498.89</td>\n",
              "      <td>1509.19</td>\n",
              "      <td>1479.55</td>\n",
              "      <td>4370000.0</td>\n",
              "      <td>0.0043</td>\n",
              "    </tr>\n",
              "    <tr>\n",
              "      <th>40</th>\n",
              "      <td>20/02/2022</td>\n",
              "      <td>1498.89</td>\n",
              "      <td>1504.84</td>\n",
              "      <td>1520.78</td>\n",
              "      <td>1473.76</td>\n",
              "      <td>4320000.0</td>\n",
              "      <td>-0.0040</td>\n",
              "    </tr>\n",
              "    <tr>\n",
              "      <th>41</th>\n",
              "      <td>13/02/2022</td>\n",
              "      <td>1504.84</td>\n",
              "      <td>1501.71</td>\n",
              "      <td>1507.99</td>\n",
              "      <td>1470.06</td>\n",
              "      <td>3430000.0</td>\n",
              "      <td>0.0021</td>\n",
              "    </tr>\n",
              "    <tr>\n",
              "      <th>42</th>\n",
              "      <td>06/02/2022</td>\n",
              "      <td>1501.71</td>\n",
              "      <td>1478.96</td>\n",
              "      <td>1512.88</td>\n",
              "      <td>1478.96</td>\n",
              "      <td>3420000.0</td>\n",
              "      <td>0.0154</td>\n",
              "    </tr>\n",
              "    <tr>\n",
              "      <th>43</th>\n",
              "      <td>30/01/2022</td>\n",
              "      <td>1478.96</td>\n",
              "      <td>1478.96</td>\n",
              "      <td>1478.96</td>\n",
              "      <td>1478.96</td>\n",
              "      <td>3420000.0</td>\n",
              "      <td>0.0154</td>\n",
              "    </tr>\n",
              "    <tr>\n",
              "      <th>44</th>\n",
              "      <td>23/01/2022</td>\n",
              "      <td>1478.96</td>\n",
              "      <td>1472.89</td>\n",
              "      <td>1490.45</td>\n",
              "      <td>1424.36</td>\n",
              "      <td>3660000.0</td>\n",
              "      <td>0.0041</td>\n",
              "    </tr>\n",
              "    <tr>\n",
              "      <th>45</th>\n",
              "      <td>16/01/2022</td>\n",
              "      <td>1472.89</td>\n",
              "      <td>1496.02</td>\n",
              "      <td>1503.86</td>\n",
              "      <td>1424.65</td>\n",
              "      <td>3960000.0</td>\n",
              "      <td>-0.0155</td>\n",
              "    </tr>\n",
              "    <tr>\n",
              "      <th>46</th>\n",
              "      <td>09/01/2022</td>\n",
              "      <td>1496.02</td>\n",
              "      <td>1528.48</td>\n",
              "      <td>1536.45</td>\n",
              "      <td>1464.49</td>\n",
              "      <td>5540000.0</td>\n",
              "      <td>-0.0212</td>\n",
              "    </tr>\n",
              "    <tr>\n",
              "      <th>47</th>\n",
              "      <td>02/01/2022</td>\n",
              "      <td>1528.48</td>\n",
              "      <td>1508.55</td>\n",
              "      <td>1536.24</td>\n",
              "      <td>1507.19</td>\n",
              "      <td>4110000.0</td>\n",
              "      <td>0.0202</td>\n",
              "    </tr>\n",
              "    <tr>\n",
              "      <th>48</th>\n",
              "      <td>26/12/2021</td>\n",
              "      <td>1498.28</td>\n",
              "      <td>1477.03</td>\n",
              "      <td>1499.77</td>\n",
              "      <td>1469.91</td>\n",
              "      <td>4220000.0</td>\n",
              "      <td>0.0144</td>\n",
              "    </tr>\n",
              "    <tr>\n",
              "      <th>49</th>\n",
              "      <td>19/12/2021</td>\n",
              "      <td>1477.03</td>\n",
              "      <td>1479.79</td>\n",
              "      <td>1489.24</td>\n",
              "      <td>1447.14</td>\n",
              "      <td>5190000.0</td>\n",
              "      <td>-0.0019</td>\n",
              "    </tr>\n",
              "    <tr>\n",
              "      <th>50</th>\n",
              "      <td>12/12/2021</td>\n",
              "      <td>1479.79</td>\n",
              "      <td>1463.54</td>\n",
              "      <td>1487.73</td>\n",
              "      <td>1463.54</td>\n",
              "      <td>4780000.0</td>\n",
              "      <td>0.0111</td>\n",
              "    </tr>\n",
              "    <tr>\n",
              "      <th>51</th>\n",
              "      <td>05/12/2021</td>\n",
              "      <td>1463.54</td>\n",
              "      <td>1443.32</td>\n",
              "      <td>1475.85</td>\n",
              "      <td>1400.87</td>\n",
              "      <td>4030000.0</td>\n",
              "      <td>0.0140</td>\n",
              "    </tr>\n",
              "  </tbody>\n",
              "</table>\n",
              "</div>\n",
              "      <button class=\"colab-df-convert\" onclick=\"convertToInteractive('df-5678e5d9-46f0-4d1c-8f2f-b6dfd61d4a2c')\"\n",
              "              title=\"Convert this dataframe to an interactive table.\"\n",
              "              style=\"display:none;\">\n",
              "        \n",
              "  <svg xmlns=\"http://www.w3.org/2000/svg\" height=\"24px\"viewBox=\"0 0 24 24\"\n",
              "       width=\"24px\">\n",
              "    <path d=\"M0 0h24v24H0V0z\" fill=\"none\"/>\n",
              "    <path d=\"M18.56 5.44l.94 2.06.94-2.06 2.06-.94-2.06-.94-.94-2.06-.94 2.06-2.06.94zm-11 1L8.5 8.5l.94-2.06 2.06-.94-2.06-.94L8.5 2.5l-.94 2.06-2.06.94zm10 10l.94 2.06.94-2.06 2.06-.94-2.06-.94-.94-2.06-.94 2.06-2.06.94z\"/><path d=\"M17.41 7.96l-1.37-1.37c-.4-.4-.92-.59-1.43-.59-.52 0-1.04.2-1.43.59L10.3 9.45l-7.72 7.72c-.78.78-.78 2.05 0 2.83L4 21.41c.39.39.9.59 1.41.59.51 0 1.02-.2 1.41-.59l7.78-7.78 2.81-2.81c.8-.78.8-2.07 0-2.86zM5.41 20L4 18.59l7.72-7.72 1.47 1.35L5.41 20z\"/>\n",
              "  </svg>\n",
              "      </button>\n",
              "      \n",
              "  <style>\n",
              "    .colab-df-container {\n",
              "      display:flex;\n",
              "      flex-wrap:wrap;\n",
              "      gap: 12px;\n",
              "    }\n",
              "\n",
              "    .colab-df-convert {\n",
              "      background-color: #E8F0FE;\n",
              "      border: none;\n",
              "      border-radius: 50%;\n",
              "      cursor: pointer;\n",
              "      display: none;\n",
              "      fill: #1967D2;\n",
              "      height: 32px;\n",
              "      padding: 0 0 0 0;\n",
              "      width: 32px;\n",
              "    }\n",
              "\n",
              "    .colab-df-convert:hover {\n",
              "      background-color: #E2EBFA;\n",
              "      box-shadow: 0px 1px 2px rgba(60, 64, 67, 0.3), 0px 1px 3px 1px rgba(60, 64, 67, 0.15);\n",
              "      fill: #174EA6;\n",
              "    }\n",
              "\n",
              "    [theme=dark] .colab-df-convert {\n",
              "      background-color: #3B4455;\n",
              "      fill: #D2E3FC;\n",
              "    }\n",
              "\n",
              "    [theme=dark] .colab-df-convert:hover {\n",
              "      background-color: #434B5C;\n",
              "      box-shadow: 0px 1px 3px 1px rgba(0, 0, 0, 0.15);\n",
              "      filter: drop-shadow(0px 1px 2px rgba(0, 0, 0, 0.3));\n",
              "      fill: #FFFFFF;\n",
              "    }\n",
              "  </style>\n",
              "\n",
              "      <script>\n",
              "        const buttonEl =\n",
              "          document.querySelector('#df-5678e5d9-46f0-4d1c-8f2f-b6dfd61d4a2c button.colab-df-convert');\n",
              "        buttonEl.style.display =\n",
              "          google.colab.kernel.accessAllowed ? 'block' : 'none';\n",
              "\n",
              "        async function convertToInteractive(key) {\n",
              "          const element = document.querySelector('#df-5678e5d9-46f0-4d1c-8f2f-b6dfd61d4a2c');\n",
              "          const dataTable =\n",
              "            await google.colab.kernel.invokeFunction('convertToInteractive',\n",
              "                                                     [key], {});\n",
              "          if (!dataTable) return;\n",
              "\n",
              "          const docLinkHtml = 'Like what you see? Visit the ' +\n",
              "            '<a target=\"_blank\" href=https://colab.research.google.com/notebooks/data_table.ipynb>data table notebook</a>'\n",
              "            + ' to learn more about interactive tables.';\n",
              "          element.innerHTML = '';\n",
              "          dataTable['output_type'] = 'display_data';\n",
              "          await google.colab.output.renderOutput(dataTable, element);\n",
              "          const docLink = document.createElement('div');\n",
              "          docLink.innerHTML = docLinkHtml;\n",
              "          element.appendChild(docLink);\n",
              "        }\n",
              "      </script>\n",
              "    </div>\n",
              "  </div>\n",
              "  "
            ]
          },
          "metadata": {},
          "execution_count": 404
        }
      ]
    },
    {
      "cell_type": "code",
      "source": [
        "data['close']=data['close'].astype(float)\n",
        "data['open']=data['open'].astype(float)\n",
        "data['high']=data['high'].astype(float)\n",
        "data['low']=data['low'].astype(float)\n",
        "data['change']=data['change'].astype(float)\n",
        "data['volume']=data['volume'].astype(float)\n",
        "\n",
        "# from datetime import date\n",
        "# data = data.astype({\"Date\": date})"
      ],
      "metadata": {
        "id": "HdCijMCKN9py"
      },
      "execution_count": 405,
      "outputs": []
    },
    {
      "cell_type": "code",
      "source": [
        "data['Date'] = pd.to_datetime(data['Date'],dayfirst=True)"
      ],
      "metadata": {
        "id": "5RhIAV7ve9NV"
      },
      "execution_count": 406,
      "outputs": []
    },
    {
      "cell_type": "code",
      "source": [
        "data.dtypes"
      ],
      "metadata": {
        "colab": {
          "base_uri": "https://localhost:8080/"
        },
        "id": "U06WrCAgfC4_",
        "outputId": "f312677c-0667-410a-9768-7c0d222860ec"
      },
      "execution_count": 407,
      "outputs": [
        {
          "output_type": "execute_result",
          "data": {
            "text/plain": [
              "Date      datetime64[ns]\n",
              "close            float64\n",
              "open             float64\n",
              "high             float64\n",
              "low              float64\n",
              "volume           float64\n",
              "change           float64\n",
              "dtype: object"
            ]
          },
          "metadata": {},
          "execution_count": 407
        }
      ]
    },
    {
      "cell_type": "code",
      "source": [
        "df=data"
      ],
      "metadata": {
        "id": "Bl5flvWoGS5d"
      },
      "execution_count": 408,
      "outputs": []
    },
    {
      "cell_type": "code",
      "source": [
        "data=data.set_index('Date')\n",
        "data=data.sort_index()"
      ],
      "metadata": {
        "id": "8Whlcsi8eaPX"
      },
      "execution_count": 409,
      "outputs": []
    },
    {
      "cell_type": "code",
      "source": [
        "data.to_csv('data.csv')"
      ],
      "metadata": {
        "id": "MI8LYvTLw1AT"
      },
      "execution_count": 410,
      "outputs": []
    },
    {
      "cell_type": "markdown",
      "source": [
        "#Khởi tạo chuỗi lợi suất và khảo sát dữ liệu"
      ],
      "metadata": {
        "id": "V-ObBlDULcUk"
      }
    },
    {
      "cell_type": "markdown",
      "source": [
        "Note: Lấy trễ bậc 1 bằng hàm shift(1), giá trị chuỗi được tính bằng công thức ![image.png](data:image/png;base64,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)"
      ],
      "metadata": {
        "id": "X-zTnBQLLkuG"
      }
    },
    {
      "cell_type": "code",
      "source": [
        "import numpy as np\n",
        "# Tính chuỗi return\n",
        "r_t =np.log(data['close']/data['close'].shift(1)).values[:]\n",
        "mean = np.nanmean(r_t)\n",
        "r_t[0]=mean\n",
        "r_t[:5]"
      ],
      "metadata": {
        "id": "vsZkf4C8gJVB",
        "colab": {
          "base_uri": "https://localhost:8080/"
        },
        "outputId": "d7437b63-789b-4d4c-f63b-06ccfaa723a9"
      },
      "execution_count": 411,
      "outputs": [
        {
          "output_type": "execute_result",
          "data": {
            "text/plain": [
              "array([-0.00595859,  0.01104203, -0.00186687,  0.01428447,  0.01995599])"
            ]
          },
          "metadata": {},
          "execution_count": 411
        }
      ]
    },
    {
      "cell_type": "code",
      "source": [
        "r_t"
      ],
      "metadata": {
        "colab": {
          "base_uri": "https://localhost:8080/"
        },
        "id": "V9h52Bd_erLo",
        "outputId": "38849572-c8df-433e-f5ec-851cf8c686ef"
      },
      "execution_count": 412,
      "outputs": [
        {
          "output_type": "execute_result",
          "data": {
            "text/plain": [
              "array([-0.00595859,  0.01104203, -0.00186687,  0.01428447,  0.01995599,\n",
              "       -0.02146553, -0.01558179,  0.00411268,  0.        ,  0.01526532,\n",
              "        0.00208212, -0.00396175,  0.00428731, -0.02610626,  0.00174408,\n",
              "        0.01981464,  0.01190087, -0.02297296, -0.01594288, -0.05592428,\n",
              "       -0.00905313, -0.02784984, -0.11676325,  0.04782465,  0.03542506,\n",
              "        0.00196625, -0.00303259, -0.05340722, -0.02648754,  0.01125671,\n",
              "       -0.02328169,  0.00675586,  0.01306669,  0.00963736,  0.03775046,\n",
              "        0.00762607,  0.0054118 ,  0.01049485, -0.00160744, -0.02509136,\n",
              "       -0.01188184, -0.02523408, -0.06096801, -0.08880288,  0.0247324 ,\n",
              "       -0.04038653,  0.00736626, -0.02984647, -0.04368214,  0.01538604,\n",
              "        0.00219498,  0.10592548])"
            ]
          },
          "metadata": {},
          "execution_count": 412
        }
      ]
    },
    {
      "cell_type": "code",
      "source": [
        "import matplotlib.pyplot as plt\n",
        "plt.figure(figsize=(8, 8))\n",
        "plt.scatter(x=r_t[1:], y=r_t[:-1])\n",
        "plt.title('Return rate vs Lag order 1 according to date')\n",
        "plt.xlabel('r(t-1)')\n",
        "plt.ylabel('r(t)')\n",
        "plt.show()"
      ],
      "metadata": {
        "colab": {
          "base_uri": "https://localhost:8080/",
          "height": 0
        },
        "id": "Zf4pBjANL0ou",
        "outputId": "c6856ff1-d254-4b09-ce92-94c0267ede7d"
      },
      "execution_count": 413,
      "outputs": [
        {
          "output_type": "display_data",
          "data": {
            "text/plain": [
              "<Figure size 576x576 with 1 Axes>"
            ],
            "image/png": "[encoded data removed]"
          },
          "metadata": {
            "needs_background": "light"
          }
        }
      ]
    },
    {
      "cell_type": "code",
      "source": [
        "import statsmodels.api as sm\n",
        "sm.qqplot(r_t)\n",
        "plt.show()"
      ],
      "metadata": {
        "colab": {
          "base_uri": "https://localhost:8080/",
          "height": 0
        },
        "id": "lEoZYKj1MCmf",
        "outputId": "69ad8594-b917-480e-a169-36261df82997"
      },
      "execution_count": 414,
      "outputs": [
        {
          "output_type": "display_data",
          "data": {
            "text/plain": [
              "<Figure size 432x288 with 1 Axes>"
            ],
            "image/png": "[encoded data removed]"
          },
          "metadata": {
            "needs_background": "light"
          }
        }
      ]
    },
    {
      "cell_type": "markdown",
      "source": [
        "#Kiểm tra tính dừng"
      ],
      "metadata": {
        "id": "ulPxuClaMPCv"
      }
    },
    {
      "cell_type": "code",
      "source": [
        "#biểu đồ chuỗi lợi suất\n",
        "import matplotlib.pyplot as plt\n",
        "plt.figure(figsize=(16, 4))\n",
        "plt.plot(np.arange(r_t.shape[0]), r_t, '-o')\n",
        "plt.axhline(y=mean, label='mean return', c='red')\n",
        "plt.title('Return rate according to date')\n",
        "plt.xlabel('Date Order')\n",
        "plt.ylabel('Return Rate')\n",
        "plt.legend()\n",
        "plt.show()"
      ],
      "metadata": {
        "colab": {
          "base_uri": "https://localhost:8080/",
          "height": 291
        },
        "id": "dOopCEzKO00U",
        "outputId": "4d192083-259a-4ea6-bfe7-76e8b0da34e1"
      },
      "execution_count": 415,
      "outputs": [
        {
          "output_type": "display_data",
          "data": {
            "text/plain": [
              "<Figure size 1152x288 with 1 Axes>"
            ],
            "image/png": "[encoded data removed]"
          },
          "metadata": {
            "needs_background": "light"
          }
        }
      ]
    },
    {
      "cell_type": "code",
      "source": [
        "from statsmodels.tsa.stattools import adfuller\n",
        "result = adfuller(r_t)\n",
        "print('ADF Statistic: %f' % result[0])\n",
        "print('p-value: %f' % result[1])\n",
        "print('Critical Values:')\n",
        "for key, value in result[4].items():\n",
        "\tprint('\\t%s: %.3f' % (key, value))"
      ],
      "metadata": {
        "colab": {
          "base_uri": "https://localhost:8080/"
        },
        "id": "mI4ZQIqKMSAe",
        "outputId": "9766c129-fdda-452a-97f8-7fb2f8f565c0"
      },
      "execution_count": 416,
      "outputs": [
        {
          "output_type": "stream",
          "name": "stdout",
          "text": [
            "ADF Statistic: -5.496394\n",
            "p-value: 0.000002\n",
            "Critical Values:\n",
            "\t1%: -3.566\n",
            "\t5%: -2.920\n",
            "\t10%: -2.598\n"
          ]
        }
      ]
    },
    {
      "cell_type": "markdown",
      "source": [
        "\n",
        "Kiểm định:\n",
        "Giả thuyết H0: \n",
        "Đối thuyết H1:\n",
        "\n",
        "Giá trị p-value= 0.000002 < 0.05 => Bác bỏ giả thuyết H0. Phương trình đặc trưng không có nghiệm đơn vị\n",
        "Do đó chuỗi lợi suất có tính đừng"
      ],
      "metadata": {
        "id": "O4mufLT8NVMt"
      }
    },
    {
      "cell_type": "markdown",
      "source": [
        "Chuỗi trên là chuỗi dừng suy ra d = 0 \n"
      ],
      "metadata": {
        "id": "jow3LIUjPMIG"
      }
    },
    {
      "cell_type": "markdown",
      "source": [
        "Nhìn vào 2 biểu đồ dưới đây, trục hoành là độ trễ, trục tung là giá trị hệ số tương quan tương ứng với độ trễ. Tại độ trễ 0(nhỏ nhất) thì giá trị hệ số tương quan nằm ngoài khoảng tin cậy, vì vậy chọn đây là độ trễ phù hợp lớn nhất\n",
        "Viết tương tự đồ thị dưới"
      ],
      "metadata": {
        "id": "QMYMJdRXV3QM"
      }
    },
    {
      "cell_type": "code",
      "source": [
        "from statsmodels.graphics.tsaplots import plot_acf, plot_pacf\n",
        "import matplotlib.pyplot as plt\n",
        "plt.figure(figsize = (8, 6))\n",
        "ax1 = plot_acf(r_t)"
      ],
      "metadata": {
        "colab": {
          "base_uri": "https://localhost:8080/",
          "height": 298
        },
        "id": "SbFDmExTNAec",
        "outputId": "2323e09d-7819-4b23-9349-92d855ddef13"
      },
      "execution_count": 417,
      "outputs": [
        {
          "output_type": "display_data",
          "data": {
            "text/plain": [
              "<Figure size 576x432 with 0 Axes>"
            ]
          },
          "metadata": {}
        },
        {
          "output_type": "display_data",
          "data": {
            "text/plain": [
              "<Figure size 432x288 with 1 Axes>"
            ],
            "image/png": "[encoded data removed]"
          },
          "metadata": {
            "needs_background": "light"
          }
        }
      ]
    },
    {
      "cell_type": "code",
      "source": [
        "from statsmodels.graphics.tsaplots import plot_acf, plot_pacf\n",
        "import matplotlib.pyplot as plt\n",
        "plt.figure(figsize = (8, 6))\n",
        "ax1 = plot_pacf(r_t)"
      ],
      "metadata": {
        "colab": {
          "base_uri": "https://localhost:8080/",
          "height": 298
        },
        "id": "w_vIz0VrQPzr",
        "outputId": "0d1f7371-d3a1-49af-851c-bb3072e6bc0b"
      },
      "execution_count": 418,
      "outputs": [
        {
          "output_type": "display_data",
          "data": {
            "text/plain": [
              "<Figure size 576x432 with 0 Axes>"
            ]
          },
          "metadata": {}
        },
        {
          "output_type": "display_data",
          "data": {
            "text/plain": [
              "<Figure size 432x288 with 1 Axes>"
            ],
            "image/png": "[encoded data removed]"
          },
          "metadata": {
            "needs_background": "light"
          }
        }
      ]
    },
    {
      "cell_type": "code",
      "source": [
        "from statsmodels.tsa.arima_model import ARIMA\n",
        "\n",
        "def _arima_fit(orders, data):\n",
        "  models = dict()\n",
        "  for order in orders:\n",
        "    model = ARIMA(data, order = order).fit()\n",
        "    model_name = 'ARIMA({},{},{})'.format(order[0], order[1], order[2])\n",
        "    print('{} --> AIC={}; BIC={}'.format(model_name, model.aic, model.bic))\n",
        "    models[model_name] = model\n",
        "  return models\n",
        "\n",
        "orders = [(0, 0, 0), (0, 0, 1), (0, 0, 2 ), (0, 0, 3), (1, 0, 0),(2, 0, 0),(3, 0, 0),(1,0,1),(2,0,1),(2,0,2),(2,0,3),(1,0,2),(1,0,3),(3,0,4),(4,0,3)]\n",
        "models = _arima_fit(orders, r_t)"
      ],
      "metadata": {
        "id": "KpnZxf72RRFb",
        "colab": {
          "base_uri": "https://localhost:8080/"
        },
        "outputId": "844ba429-15c4-4f68-fb43-e1efc8fb651d"
      },
      "execution_count": 419,
      "outputs": [
        {
          "output_type": "stream",
          "name": "stderr",
          "text": [
            "/usr/local/lib/python3.8/dist-packages/statsmodels/tsa/arima_model.py:472: FutureWarning: \n",
            "statsmodels.tsa.arima_model.ARMA and statsmodels.tsa.arima_model.ARIMA have\n",
            "been deprecated in favor of statsmodels.tsa.arima.model.ARIMA (note the .\n",
            "between arima and model) and\n",
            "statsmodels.tsa.SARIMAX. These will be removed after the 0.12 release.\n",
            "\n",
            "statsmodels.tsa.arima.model.ARIMA makes use of the statespace framework and\n",
            "is both well tested and maintained.\n",
            "\n",
            "To silence this warning and continue using ARMA and ARIMA until they are\n",
            "removed, use:\n",
            "\n",
            "import warnings\n",
            "warnings.filterwarnings('ignore', 'statsmodels.tsa.arima_model.ARMA',\n",
            "                        FutureWarning)\n",
            "warnings.filterwarnings('ignore', 'statsmodels.tsa.arima_model.ARIMA',\n",
            "                        FutureWarning)\n",
            "\n",
            "  warnings.warn(ARIMA_DEPRECATION_WARN, FutureWarning)\n"
          ]
        },
        {
          "output_type": "stream",
          "name": "stdout",
          "text": [
            "ARIMA(0,0,0) --> AIC=-201.2349448651678; BIC=-197.33245742800494\n",
            "ARIMA(0,0,1) --> AIC=-199.73857590388033; BIC=-193.88484474813606\n",
            "ARIMA(0,0,2) --> AIC=-197.90437800787507; BIC=-190.09940313354934\n",
            "ARIMA(0,0,3) --> AIC=-196.1274910005607; BIC=-186.37127240765355\n",
            "ARIMA(1,0,0) --> AIC=-199.78578781461258; BIC=-193.9320566588683\n",
            "ARIMA(2,0,0) --> AIC=-197.87081840549186; BIC=-190.06584353116614\n",
            "ARIMA(3,0,0) --> AIC=-195.8846044639299; BIC=-186.12838587102274\n",
            "ARIMA(1,0,1) --> AIC=-197.84364161235672; BIC=-190.038666738031\n",
            "ARIMA(2,0,1) --> AIC=-199.22440570772912; BIC=-189.46818711482197\n",
            "ARIMA(2,0,2) --> AIC=-197.4780489557535; BIC=-185.77058664426494\n",
            "ARIMA(2,0,3) --> AIC=-198.2659675247186; BIC=-184.6072614946486\n",
            "ARIMA(1,0,2) --> AIC=-195.92122867578442; BIC=-186.16501008287727\n",
            "ARIMA(1,0,3) --> AIC=-199.19221197292362; BIC=-187.48474966143505\n"
          ]
        },
        {
          "output_type": "stream",
          "name": "stderr",
          "text": [
            "/usr/local/lib/python3.8/dist-packages/statsmodels/base/model.py:547: HessianInversionWarning: Inverting hessian failed, no bse or cov_params available\n",
            "  warnings.warn('Inverting hessian failed, no bse or cov_params '\n"
          ]
        },
        {
          "output_type": "stream",
          "name": "stdout",
          "text": [
            "ARIMA(3,0,4) --> AIC=-191.96124982029673; BIC=-174.4000563530639\n",
            "ARIMA(4,0,3) --> AIC=-203.30474317843553; BIC=-185.7435497112027\n"
          ]
        },
        {
          "output_type": "stream",
          "name": "stderr",
          "text": [
            "/usr/local/lib/python3.8/dist-packages/statsmodels/base/model.py:547: HessianInversionWarning: Inverting hessian failed, no bse or cov_params available\n",
            "  warnings.warn('Inverting hessian failed, no bse or cov_params '\n"
          ]
        }
      ]
    },
    {
      "cell_type": "code",
      "source": [
        "# ! pip install pmdarima\n",
        "# from pmdarima.arima import auto_arima\n",
        "\n",
        "# model = auto_arima(r_t, start_p=0, start_q=0,\n",
        "#                            max_p=5, max_q=5, m=12,\n",
        "#                            start_P=0, seasonal=False,\n",
        "#                            d=0, D=0, trace=True,\n",
        "#                            error_action='ignore',  \n",
        "#                            suppress_warnings=True, \n",
        "#                            stepwise=True)\n",
        "\n",
        "# print(model.aic())\n"
      ],
      "metadata": {
        "id": "pUDTNFDFP5HX"
      },
      "execution_count": 420,
      "outputs": []
    },
    {
      "cell_type": "markdown",
      "source": [
        "#Kiểm tra tự tương quan"
      ],
      "metadata": {
        "id": "bud5EK1p6Evy"
      }
    },
    {
      "cell_type": "code",
      "source": [
        "res = sm.tsa.ARMA(r_t, (1,1)).fit(disp=-1)\n",
        "#perform Ljung-Box test on residuals with lag=5\n",
        "print(sm.stats.acorr_ljungbox(res.resid, lags=[1], return_df=True))\n",
        "res = sm.tsa.ARMA(r_t, (1,1)).fit(disp=-1)\n",
        "#perform Ljung-Box test on residuals with lag=5\n",
        "print(sm.stats.acorr_ljungbox(res.resid, lags=[3], return_df=True))\n",
        "res = sm.tsa.ARMA(r_t, (1,1)).fit(disp=-1)\n",
        "#perform Ljung-Box test on residuals with lag=5\n",
        "print(sm.stats.acorr_ljungbox(res.resid, lags=[5], return_df=True))"
      ],
      "metadata": {
        "colab": {
          "base_uri": "https://localhost:8080/"
        },
        "id": "4j-bZt7XKNzU",
        "outputId": "c00ebeb7-8bf6-4b0d-8fee-3c2bf1e85fd8"
      },
      "execution_count": 421,
      "outputs": [
        {
          "output_type": "stream",
          "name": "stderr",
          "text": [
            "/usr/local/lib/python3.8/dist-packages/statsmodels/tsa/arima_model.py:472: FutureWarning: \n",
            "statsmodels.tsa.arima_model.ARMA and statsmodels.tsa.arima_model.ARIMA have\n",
            "been deprecated in favor of statsmodels.tsa.arima.model.ARIMA (note the .\n",
            "between arima and model) and\n",
            "statsmodels.tsa.SARIMAX. These will be removed after the 0.12 release.\n",
            "\n",
            "statsmodels.tsa.arima.model.ARIMA makes use of the statespace framework and\n",
            "is both well tested and maintained.\n",
            "\n",
            "To silence this warning and continue using ARMA and ARIMA until they are\n",
            "removed, use:\n",
            "\n",
            "import warnings\n",
            "warnings.filterwarnings('ignore', 'statsmodels.tsa.arima_model.ARMA',\n",
            "                        FutureWarning)\n",
            "warnings.filterwarnings('ignore', 'statsmodels.tsa.arima_model.ARIMA',\n",
            "                        FutureWarning)\n",
            "\n",
            "  warnings.warn(ARIMA_DEPRECATION_WARN, FutureWarning)\n"
          ]
        },
        {
          "output_type": "stream",
          "name": "stdout",
          "text": [
            "   lb_stat  lb_pvalue\n",
            "1  0.00011    0.99163\n",
            "    lb_stat  lb_pvalue\n",
            "3  0.068603   0.995318\n",
            "    lb_stat  lb_pvalue\n",
            "5  3.306002   0.652923\n"
          ]
        },
        {
          "output_type": "stream",
          "name": "stderr",
          "text": [
            "/usr/local/lib/python3.8/dist-packages/statsmodels/tsa/arima_model.py:472: FutureWarning: \n",
            "statsmodels.tsa.arima_model.ARMA and statsmodels.tsa.arima_model.ARIMA have\n",
            "been deprecated in favor of statsmodels.tsa.arima.model.ARIMA (note the .\n",
            "between arima and model) and\n",
            "statsmodels.tsa.SARIMAX. These will be removed after the 0.12 release.\n",
            "\n",
            "statsmodels.tsa.arima.model.ARIMA makes use of the statespace framework and\n",
            "is both well tested and maintained.\n",
            "\n",
            "To silence this warning and continue using ARMA and ARIMA until they are\n",
            "removed, use:\n",
            "\n",
            "import warnings\n",
            "warnings.filterwarnings('ignore', 'statsmodels.tsa.arima_model.ARMA',\n",
            "                        FutureWarning)\n",
            "warnings.filterwarnings('ignore', 'statsmodels.tsa.arima_model.ARIMA',\n",
            "                        FutureWarning)\n",
            "\n",
            "  warnings.warn(ARIMA_DEPRECATION_WARN, FutureWarning)\n"
          ]
        }
      ]
    },
    {
      "cell_type": "markdown",
      "source": [
        "#Xây dựng mô hình ARIMA(0,0,0)"
      ],
      "metadata": {
        "id": "w_PZPjB-ZkM2"
      }
    },
    {
      "cell_type": "code",
      "source": [
        "import statsmodels.api as sm\n",
        "from statsmodels.tsa.arima_model import ARIMA\n",
        "model_arima = ARIMA(data.close, order = (0, 0, 0))\n",
        "results = model_arima.fit()\n",
        "# print(r.summary())\n",
        "# import statsmodels.api as sm\n",
        "\n",
        "\n"
      ],
      "metadata": {
        "id": "s99MziwHZlxO",
        "colab": {
          "base_uri": "https://localhost:8080/"
        },
        "outputId": "b4a7e6b1-12ac-4ad4-cbcf-beac7b714942"
      },
      "execution_count": 422,
      "outputs": [
        {
          "output_type": "stream",
          "name": "stderr",
          "text": [
            "/usr/local/lib/python3.8/dist-packages/statsmodels/tsa/arima_model.py:472: FutureWarning: \n",
            "statsmodels.tsa.arima_model.ARMA and statsmodels.tsa.arima_model.ARIMA have\n",
            "been deprecated in favor of statsmodels.tsa.arima.model.ARIMA (note the .\n",
            "between arima and model) and\n",
            "statsmodels.tsa.SARIMAX. These will be removed after the 0.12 release.\n",
            "\n",
            "statsmodels.tsa.arima.model.ARIMA makes use of the statespace framework and\n",
            "is both well tested and maintained.\n",
            "\n",
            "To silence this warning and continue using ARMA and ARIMA until they are\n",
            "removed, use:\n",
            "\n",
            "import warnings\n",
            "warnings.filterwarnings('ignore', 'statsmodels.tsa.arima_model.ARMA',\n",
            "                        FutureWarning)\n",
            "warnings.filterwarnings('ignore', 'statsmodels.tsa.arima_model.ARIMA',\n",
            "                        FutureWarning)\n",
            "\n",
            "  warnings.warn(ARIMA_DEPRECATION_WARN, FutureWarning)\n",
            "/usr/local/lib/python3.8/dist-packages/statsmodels/tsa/base/tsa_model.py:524: ValueWarning: No frequency information was provided, so inferred frequency W-SUN will be used.\n",
            "  warnings.warn('No frequency information was'\n"
          ]
        }
      ]
    },
    {
      "cell_type": "code",
      "source": [
        "results.summary()"
      ],
      "metadata": {
        "colab": {
          "base_uri": "https://localhost:8080/",
          "height": 0
        },
        "id": "tOzkbXzHNTPA",
        "outputId": "204d497b-90ad-4782-ebbf-6202f8f99588"
      },
      "execution_count": 423,
      "outputs": [
        {
          "output_type": "execute_result",
          "data": {
            "text/plain": [
              "<class 'statsmodels.iolib.summary.Summary'>\n",
              "\"\"\"\n",
              "                              ARMA Model Results                              \n",
              "==============================================================================\n",
              "Dep. Variable:                  close   No. Observations:                   52\n",
              "Model:                     ARMA(0, 0)   Log Likelihood                -342.376\n",
              "Method:                           css   S.D. of innovations            175.075\n",
              "Date:                Wed, 14 Dec 2022   AIC                            688.752\n",
              "Time:                        06:24:08   BIC                            692.654\n",
              "Sample:                    12-05-2021   HQIC                           690.248\n",
              "                         - 11-27-2022                                         \n",
              "==============================================================================\n",
              "                 coef    std err          z      P>|z|      [0.025      0.975]\n",
              "------------------------------------------------------------------------------\n",
              "const       1293.6235     24.278     53.283      0.000    1246.038    1341.208\n",
              "==============================================================================\n",
              "\"\"\""
            ],
            "text/html": [
              "<table class=\"simpletable\">\n",
              "<caption>ARMA Model Results</caption>\n",
              "<tr>\n",
              "  <th>Dep. Variable:</th>       <td>close</td>      <th>  No. Observations:  </th>    <td>52</td>   \n",
              "</tr>\n",
              "<tr>\n",
              "  <th>Model:</th>            <td>ARMA(0, 0)</td>    <th>  Log Likelihood     </th> <td>-342.376</td>\n",
              "</tr>\n",
              "<tr>\n",
              "  <th>Method:</th>               <td>css</td>       <th>  S.D. of innovations</th>  <td>175.075</td>\n",
              "</tr>\n",
              "<tr>\n",
              "  <th>Date:</th>          <td>Wed, 14 Dec 2022</td> <th>  AIC                </th>  <td>688.752</td>\n",
              "</tr>\n",
              "<tr>\n",
              "  <th>Time:</th>              <td>06:24:08</td>     <th>  BIC                </th>  <td>692.654</td>\n",
              "</tr>\n",
              "<tr>\n",
              "  <th>Sample:</th>           <td>12-05-2021</td>    <th>  HQIC               </th>  <td>690.248</td>\n",
              "</tr>\n",
              "<tr>\n",
              "  <th></th>                 <td>- 11-27-2022</td>   <th>                     </th>     <td> </td>   \n",
              "</tr>\n",
              "</table>\n",
              "<table class=\"simpletable\">\n",
              "<tr>\n",
              "    <td></td>       <th>coef</th>     <th>std err</th>      <th>z</th>      <th>P>|z|</th>  <th>[0.025</th>    <th>0.975]</th>  \n",
              "</tr>\n",
              "<tr>\n",
              "  <th>const</th> <td> 1293.6235</td> <td>   24.278</td> <td>   53.283</td> <td> 0.000</td> <td> 1246.038</td> <td> 1341.208</td>\n",
              "</tr>\n",
              "</table>"
            ]
          },
          "metadata": {},
          "execution_count": 423
        }
      ]
    },
    {
      "cell_type": "markdown",
      "source": [
        "\n",
        "#Static forecast"
      ],
      "metadata": {
        "id": "ZvAwl96PaQfC"
      }
    },
    {
      "cell_type": "code",
      "source": [
        "from math import sqrt\n",
        "from sklearn.metrics import mean_squared_error as MSE\n"
      ],
      "metadata": {
        "id": "GSZSBnEQUqrv"
      },
      "execution_count": 424,
      "outputs": []
    },
    {
      "cell_type": "code",
      "source": [
        "pred = results.predict(start='2022-08-07' ,end='2022-11-27', dynamic= False)  \n",
        "pred_future=results.predict(start='2022-11-27',end='2023-01-08',dynamic= False)\n"
      ],
      "metadata": {
        "id": "z-Vx63HS28Fk",
        "colab": {
          "base_uri": "https://localhost:8080/"
        },
        "outputId": "1dd43758-4a73-4e1d-c6d5-e8d28fc26640"
      },
      "execution_count": 425,
      "outputs": [
        {
          "output_type": "stream",
          "name": "stderr",
          "text": [
            "/usr/local/lib/python3.8/dist-packages/statsmodels/tsa/base/tsa_model.py:132: FutureWarning: The 'freq' argument in Timestamp is deprecated and will be removed in a future version.\n",
            "  date_key = Timestamp(key, freq=base_index.freq)\n"
          ]
        }
      ]
    },
    {
      "cell_type": "code",
      "source": [
        "data.close['2022-08-07':]"
      ],
      "metadata": {
        "colab": {
          "base_uri": "https://localhost:8080/"
        },
        "id": "T7zWnQIC_JDm",
        "outputId": "758ce2a0-a514-411c-d041-5bbd01865558"
      },
      "execution_count": 426,
      "outputs": [
        {
          "output_type": "execute_result",
          "data": {
            "text/plain": [
              "Date\n",
              "2022-08-07    1262.33\n",
              "2022-08-14    1269.18\n",
              "2022-08-21    1282.57\n",
              "2022-08-28    1280.51\n",
              "2022-09-04    1248.78\n",
              "2022-09-11    1234.03\n",
              "2022-09-18    1203.28\n",
              "2022-09-25    1132.11\n",
              "2022-10-02    1035.91\n",
              "2022-10-09    1061.85\n",
              "2022-10-16    1019.82\n",
              "2022-10-23    1027.36\n",
              "2022-10-30     997.15\n",
              "2022-11-06     954.53\n",
              "2022-11-13     969.33\n",
              "2022-11-20     971.46\n",
              "2022-11-27    1080.01\n",
              "Name: close, dtype: float64"
            ]
          },
          "metadata": {},
          "execution_count": 426
        }
      ]
    },
    {
      "cell_type": "code",
      "source": [
        "frame = { 'Actual': data.close['2022-08-07':], 'Predict': pred }\n",
        "#Creating Dataframe\n",
        "predict = pd.DataFrame(frame)\n",
        "predict.to_csv('non.csv')\n",
        "frame = { 'Forecast': pred_future }\n",
        "#Creating Dataframe\n",
        "forecast = pd.DataFrame(frame)\n",
        "forecast.to_csv('fore_non.csv')"
      ],
      "metadata": {
        "id": "V6rYUpCLAtPE"
      },
      "execution_count": 427,
      "outputs": []
    },
    {
      "cell_type": "code",
      "source": [
        "plt.plot(data['close'],color='blue')\n",
        "plt.plot(pred,color='yellow')\n",
        "plt.plot(pred_future,color='red')\n",
        "plt.xticks(rotation=45)\n",
        "plt.xlabel(\"M\")\n",
        "plt.ylabel(\"VN Index (VNI)\")\n",
        "plt.legend(['Actual','Predicted', 'Forecast'])\n",
        "fig = plt.figure(figsize=(10, 1))\n",
        "fig.show()"
      ],
      "metadata": {
        "id": "Xvjiga92OUVR",
        "colab": {
          "base_uri": "https://localhost:8080/",
          "height": 0
        },
        "outputId": "72e64397-a3b5-483c-8188-0dd4b5507724"
      },
      "execution_count": 428,
      "outputs": [
        {
          "output_type": "display_data",
          "data": {
            "text/plain": [
              "<Figure size 432x288 with 1 Axes>"
            ],
            "image/png": "[encoded data removed]"
          },
          "metadata": {
            "needs_background": "light"
          }
        },
        {
          "output_type": "display_data",
          "data": {
            "text/plain": [
              "<Figure size 720x72 with 0 Axes>"
            ]
          },
          "metadata": {}
        }
      ]
    },
    {
      "cell_type": "code",
      "source": [
        "mse = sqrt(MSE(data.close['2022-08-07':], pred).mean())\n",
        "print('The Mean Squared Error of our forecasts is {}'.format(round(mse, 2)))\n",
        "rmse = sqrt(MSE(data.close['2022-08-07':], pred,squared=False).mean())\n",
        "print('The Root Mean Squared Error of our forecasts is {}'.format(round(rmse, 2)))"
      ],
      "metadata": {
        "id": "Jua0ffMTUdSw",
        "colab": {
          "base_uri": "https://localhost:8080/"
        },
        "outputId": "d0f4a518-243e-475d-e047-e8fc00f9ebc4"
      },
      "execution_count": 429,
      "outputs": [
        {
          "output_type": "stream",
          "name": "stdout",
          "text": [
            "The Mean Squared Error of our forecasts is 212.15\n",
            "The Root Mean Squared Error of our forecasts is 14.57\n"
          ]
        }
      ]
    },
    {
      "cell_type": "markdown",
      "source": [
        "#Dynamic Forecast"
      ],
      "metadata": {
        "id": "5gecWr4zFx-N"
      }
    },
    {
      "cell_type": "code",
      "source": [
        "pred_dynamic = results.predict(start='2022-08-07' ,end='2022-11-27', dynamic= True)  \n",
        "pred_future=results.predict(start='2022-11-27',end='2023-01-08',dynamic= True)\n",
        "\n"
      ],
      "metadata": {
        "id": "XhFPBzgjFv6P",
        "colab": {
          "base_uri": "https://localhost:8080/"
        },
        "outputId": "6e168b40-c6ac-40e8-f06b-6e5ab6a9f4f0"
      },
      "execution_count": 430,
      "outputs": [
        {
          "output_type": "stream",
          "name": "stderr",
          "text": [
            "/usr/local/lib/python3.8/dist-packages/statsmodels/tsa/base/tsa_model.py:132: FutureWarning: The 'freq' argument in Timestamp is deprecated and will be removed in a future version.\n",
            "  date_key = Timestamp(key, freq=base_index.freq)\n"
          ]
        }
      ]
    },
    {
      "cell_type": "code",
      "source": [
        "frame = { 'Actual': data.close['2022-08-07':], 'Predict': pred_dynamic }\n",
        "#Creating Dataframe\n",
        "predict = pd.DataFrame(frame)\n",
        "predict.to_csv('non.csv')\n",
        "frame = { 'Forecast': pred_future }\n",
        "#Creating Dataframe\n",
        "forecast = pd.DataFrame(frame)\n",
        "forecast.to_csv('fore_non.csv')"
      ],
      "metadata": {
        "id": "OKFOi6b4FHZb"
      },
      "execution_count": 431,
      "outputs": []
    },
    {
      "cell_type": "code",
      "source": [
        "plt.plot(data['close'],color='blue')\n",
        "plt.plot(pred_dynamic,color='yellow')\n",
        "plt.plot(pred_future,color='red')\n",
        "plt.xticks(rotation=3)\n",
        "plt.xlabel(\"Months\")\n",
        "plt.ylabel(\"Cumulative confirmed cases\")\n",
        "plt.legend(['Actual','Predicted', 'Forecast'])\n",
        "fig = plt.figure(figsize=(10, 1))\n",
        "fig.show()"
      ],
      "metadata": {
        "id": "W-FKICayGZax",
        "colab": {
          "base_uri": "https://localhost:8080/",
          "height": 0
        },
        "outputId": "2467e5f7-1df4-4515-901d-796e87d0bcdb"
      },
      "execution_count": 432,
      "outputs": [
        {
          "output_type": "display_data",
          "data": {
            "text/plain": [
              "<Figure size 432x288 with 1 Axes>"
            ],
            "image/png": "[encoded data removed]"
          },
          "metadata": {
            "needs_background": "light"
          }
        },
        {
          "output_type": "display_data",
          "data": {
            "text/plain": [
              "<Figure size 720x72 with 0 Axes>"
            ]
          },
          "metadata": {}
        }
      ]
    },
    {
      "cell_type": "code",
      "source": [
        "mse = sqrt(MSE(data.close['2022-08-07':], pred_dynamic).mean())\n",
        "print('The Mean Mean Squared Error of our forecasts is {}'.format(round(mse, 2)))\n",
        "rmse = sqrt(MSE(data.close['2022-08-07':], pred_dynamic,squared=False).mean())\n",
        "print('The Root Mean Squared Error of our forecasts is {}'.format(round(rmse, 2)))"
      ],
      "metadata": {
        "id": "SGhu7gsbU9qG",
        "colab": {
          "base_uri": "https://localhost:8080/"
        },
        "outputId": "850e1f96-0981-47cb-e289-69f8300c1dd2"
      },
      "execution_count": 433,
      "outputs": [
        {
          "output_type": "stream",
          "name": "stdout",
          "text": [
            "The Mean Mean Squared Error of our forecasts is 212.15\n",
            "The Root Mean Squared Error of our forecasts is 14.57\n"
          ]
        }
      ]
    },
    {
      "cell_type": "code",
      "source": [],
      "metadata": {
        "id": "gtNSduD2HU1E"
      },
      "execution_count": 433,
      "outputs": []
    },
    {
      "cell_type": "markdown",
      "source": [
        "#Xây dựng mô hình ARIMA(2,0,1)"
      ],
      "metadata": {
        "id": "y5jZzF4YHVVF"
      }
    },
    {
      "cell_type": "code",
      "source": [
        "import statsmodels.api as sm\n",
        "from statsmodels.tsa.arima_model import ARIMA\n",
        "model_arima = ARIMA(data.close, order = (2, 0, 1))\n",
        "results = model_arima.fit()\n",
        "\n",
        "\n"
      ],
      "metadata": {
        "colab": {
          "base_uri": "https://localhost:8080/"
        },
        "outputId": "5e15cf00-4cc9-4869-8536-9e32c9b96636",
        "id": "FSJ0ubXXHVVF"
      },
      "execution_count": 434,
      "outputs": [
        {
          "output_type": "stream",
          "name": "stderr",
          "text": [
            "/usr/local/lib/python3.8/dist-packages/statsmodels/tsa/arima_model.py:472: FutureWarning: \n",
            "statsmodels.tsa.arima_model.ARMA and statsmodels.tsa.arima_model.ARIMA have\n",
            "been deprecated in favor of statsmodels.tsa.arima.model.ARIMA (note the .\n",
            "between arima and model) and\n",
            "statsmodels.tsa.SARIMAX. These will be removed after the 0.12 release.\n",
            "\n",
            "statsmodels.tsa.arima.model.ARIMA makes use of the statespace framework and\n",
            "is both well tested and maintained.\n",
            "\n",
            "To silence this warning and continue using ARMA and ARIMA until they are\n",
            "removed, use:\n",
            "\n",
            "import warnings\n",
            "warnings.filterwarnings('ignore', 'statsmodels.tsa.arima_model.ARMA',\n",
            "                        FutureWarning)\n",
            "warnings.filterwarnings('ignore', 'statsmodels.tsa.arima_model.ARIMA',\n",
            "                        FutureWarning)\n",
            "\n",
            "  warnings.warn(ARIMA_DEPRECATION_WARN, FutureWarning)\n",
            "/usr/local/lib/python3.8/dist-packages/statsmodels/tsa/base/tsa_model.py:524: ValueWarning: No frequency information was provided, so inferred frequency W-SUN will be used.\n",
            "  warnings.warn('No frequency information was'\n",
            "/usr/local/lib/python3.8/dist-packages/statsmodels/base/model.py:547: HessianInversionWarning: Inverting hessian failed, no bse or cov_params available\n",
            "  warnings.warn('Inverting hessian failed, no bse or cov_params '\n"
          ]
        }
      ]
    },
    {
      "cell_type": "code",
      "source": [
        "results.summary()"
      ],
      "metadata": {
        "colab": {
          "base_uri": "https://localhost:8080/",
          "height": 399
        },
        "outputId": "9eb154c0-569c-4ee7-af88-bfd559442078",
        "id": "Dit9xVxtHVVG"
      },
      "execution_count": 435,
      "outputs": [
        {
          "output_type": "execute_result",
          "data": {
            "text/plain": [
              "<class 'statsmodels.iolib.summary.Summary'>\n",
              "\"\"\"\n",
              "                              ARMA Model Results                              \n",
              "==============================================================================\n",
              "Dep. Variable:                  close   No. Observations:                   52\n",
              "Model:                     ARMA(2, 1)   Log Likelihood                -265.552\n",
              "Method:                       css-mle   S.D. of innovations             37.987\n",
              "Date:                Wed, 14 Dec 2022   AIC                            541.104\n",
              "Time:                        06:24:09   BIC                            550.860\n",
              "Sample:                    12-05-2021   HQIC                           544.844\n",
              "                         - 11-27-2022                                         \n",
              "===============================================================================\n",
              "                  coef    std err          z      P>|z|      [0.025      0.975]\n",
              "-------------------------------------------------------------------------------\n",
              "const        1282.6200    137.665      9.317      0.000    1012.801    1552.439\n",
              "ar.L1.close     0.2253      0.100      2.252      0.024       0.029       0.421\n",
              "ar.L2.close     0.7241      0.101      7.155      0.000       0.526       0.922\n",
              "ma.L1.close     1.0000      0.098     10.232      0.000       0.808       1.192\n",
              "                                    Roots                                    \n",
              "=============================================================================\n",
              "                  Real          Imaginary           Modulus         Frequency\n",
              "-----------------------------------------------------------------------------\n",
              "AR.1            1.0298           +0.0000j            1.0298            0.0000\n",
              "AR.2           -1.3410           +0.0000j            1.3410            0.5000\n",
              "MA.1           -1.0000           +0.0000j            1.0000            0.5000\n",
              "-----------------------------------------------------------------------------\n",
              "\"\"\""
            ],
            "text/html": [
              "<table class=\"simpletable\">\n",
              "<caption>ARMA Model Results</caption>\n",
              "<tr>\n",
              "  <th>Dep. Variable:</th>       <td>close</td>      <th>  No. Observations:  </th>    <td>52</td>   \n",
              "</tr>\n",
              "<tr>\n",
              "  <th>Model:</th>            <td>ARMA(2, 1)</td>    <th>  Log Likelihood     </th> <td>-265.552</td>\n",
              "</tr>\n",
              "<tr>\n",
              "  <th>Method:</th>             <td>css-mle</td>     <th>  S.D. of innovations</th>  <td>37.987</td> \n",
              "</tr>\n",
              "<tr>\n",
              "  <th>Date:</th>          <td>Wed, 14 Dec 2022</td> <th>  AIC                </th>  <td>541.104</td>\n",
              "</tr>\n",
              "<tr>\n",
              "  <th>Time:</th>              <td>06:24:09</td>     <th>  BIC                </th>  <td>550.860</td>\n",
              "</tr>\n",
              "<tr>\n",
              "  <th>Sample:</th>           <td>12-05-2021</td>    <th>  HQIC               </th>  <td>544.844</td>\n",
              "</tr>\n",
              "<tr>\n",
              "  <th></th>                 <td>- 11-27-2022</td>   <th>                     </th>     <td> </td>   \n",
              "</tr>\n",
              "</table>\n",
              "<table class=\"simpletable\">\n",
              "<tr>\n",
              "       <td></td>          <th>coef</th>     <th>std err</th>      <th>z</th>      <th>P>|z|</th>  <th>[0.025</th>    <th>0.975]</th>  \n",
              "</tr>\n",
              "<tr>\n",
              "  <th>const</th>       <td> 1282.6200</td> <td>  137.665</td> <td>    9.317</td> <td> 0.000</td> <td> 1012.801</td> <td> 1552.439</td>\n",
              "</tr>\n",
              "<tr>\n",
              "  <th>ar.L1.close</th> <td>    0.2253</td> <td>    0.100</td> <td>    2.252</td> <td> 0.024</td> <td>    0.029</td> <td>    0.421</td>\n",
              "</tr>\n",
              "<tr>\n",
              "  <th>ar.L2.close</th> <td>    0.7241</td> <td>    0.101</td> <td>    7.155</td> <td> 0.000</td> <td>    0.526</td> <td>    0.922</td>\n",
              "</tr>\n",
              "<tr>\n",
              "  <th>ma.L1.close</th> <td>    1.0000</td> <td>    0.098</td> <td>   10.232</td> <td> 0.000</td> <td>    0.808</td> <td>    1.192</td>\n",
              "</tr>\n",
              "</table>\n",
              "<table class=\"simpletable\">\n",
              "<caption>Roots</caption>\n",
              "<tr>\n",
              "    <td></td>   <th>            Real</th>  <th>         Imaginary</th> <th>         Modulus</th>  <th>        Frequency</th>\n",
              "</tr>\n",
              "<tr>\n",
              "  <th>AR.1</th> <td>           1.0298</td> <td>          +0.0000j</td> <td>           1.0298</td> <td>           0.0000</td>\n",
              "</tr>\n",
              "<tr>\n",
              "  <th>AR.2</th> <td>          -1.3410</td> <td>          +0.0000j</td> <td>           1.3410</td> <td>           0.5000</td>\n",
              "</tr>\n",
              "<tr>\n",
              "  <th>MA.1</th> <td>          -1.0000</td> <td>          +0.0000j</td> <td>           1.0000</td> <td>           0.5000</td>\n",
              "</tr>\n",
              "</table>"
            ]
          },
          "metadata": {},
          "execution_count": 435
        }
      ]
    },
    {
      "cell_type": "code",
      "source": [],
      "metadata": {
        "id": "CM6hKciJHYL4"
      },
      "execution_count": 435,
      "outputs": []
    },
    {
      "cell_type": "markdown",
      "source": [
        "\n",
        "#Static forecast"
      ],
      "metadata": {
        "id": "z-SmjO4EHYUz"
      }
    },
    {
      "cell_type": "code",
      "source": [
        "from math import sqrt\n",
        "from sklearn.metrics import mean_squared_error as MSE\n"
      ],
      "metadata": {
        "id": "1rFKBGqUHYUz"
      },
      "execution_count": 436,
      "outputs": []
    },
    {
      "cell_type": "code",
      "source": [
        "pred = results.predict(start='2022-08-07' ,end='2022-11-27', dynamic= False)  \n",
        "pred_future=results.predict(start='2022-11-27',end='2023-01-08',dynamic= False)\n"
      ],
      "metadata": {
        "colab": {
          "base_uri": "https://localhost:8080/"
        },
        "outputId": "2209daa7-cac1-46bb-fd5a-01e590123cbb",
        "id": "5zjMKngkHYU0"
      },
      "execution_count": 437,
      "outputs": [
        {
          "output_type": "stream",
          "name": "stderr",
          "text": [
            "/usr/local/lib/python3.8/dist-packages/statsmodels/tsa/base/tsa_model.py:132: FutureWarning: The 'freq' argument in Timestamp is deprecated and will be removed in a future version.\n",
            "  date_key = Timestamp(key, freq=base_index.freq)\n"
          ]
        }
      ]
    },
    {
      "cell_type": "code",
      "source": [
        "data.close['2022-08-07':]"
      ],
      "metadata": {
        "colab": {
          "base_uri": "https://localhost:8080/"
        },
        "outputId": "bf8d3b06-9b70-4c21-e1a1-615a14a8b54e",
        "id": "uhq4nXyBHYU0"
      },
      "execution_count": 438,
      "outputs": [
        {
          "output_type": "execute_result",
          "data": {
            "text/plain": [
              "Date\n",
              "2022-08-07    1262.33\n",
              "2022-08-14    1269.18\n",
              "2022-08-21    1282.57\n",
              "2022-08-28    1280.51\n",
              "2022-09-04    1248.78\n",
              "2022-09-11    1234.03\n",
              "2022-09-18    1203.28\n",
              "2022-09-25    1132.11\n",
              "2022-10-02    1035.91\n",
              "2022-10-09    1061.85\n",
              "2022-10-16    1019.82\n",
              "2022-10-23    1027.36\n",
              "2022-10-30     997.15\n",
              "2022-11-06     954.53\n",
              "2022-11-13     969.33\n",
              "2022-11-20     971.46\n",
              "2022-11-27    1080.01\n",
              "Name: close, dtype: float64"
            ]
          },
          "metadata": {},
          "execution_count": 438
        }
      ]
    },
    {
      "cell_type": "code",
      "source": [
        "frame = { 'Actual': data.close['2022-08-07':], 'Predict': pred }\n",
        "#Creating Dataframe\n",
        "predict = pd.DataFrame(frame)\n",
        "predict.to_csv('non.csv')\n",
        "frame = { 'Forecast': pred_future }\n",
        "#Creating Dataframe\n",
        "forecast = pd.DataFrame(frame)\n",
        "forecast.to_csv('fore_non.csv')"
      ],
      "metadata": {
        "id": "OioTGu-mHYU1"
      },
      "execution_count": 439,
      "outputs": []
    },
    {
      "cell_type": "code",
      "source": [
        "plt.plot(data['close'],color='blue')\n",
        "plt.plot(pred,color='yellow')\n",
        "plt.plot(pred_future,color='red')\n",
        "plt.xticks(rotation=45)\n",
        "plt.xlabel(\"M\")\n",
        "plt.ylabel(\"VN Index (VNI)\")\n",
        "plt.legend(['Actual','Predicted', 'Forecast'])\n",
        "fig = plt.figure(figsize=(10, 1))\n",
        "fig.show()"
      ],
      "metadata": {
        "colab": {
          "base_uri": "https://localhost:8080/",
          "height": 323
        },
        "outputId": "952b4830-f1f2-403c-9c0c-415912dc2769",
        "id": "npNsCJwJHYU1"
      },
      "execution_count": 440,
      "outputs": [
        {
          "output_type": "display_data",
          "data": {
            "text/plain": [
              "<Figure size 432x288 with 1 Axes>"
            ],
            "image/png": "[encoded data removed]"
          },
          "metadata": {
            "needs_background": "light"
          }
        },
        {
          "output_type": "display_data",
          "data": {
            "text/plain": [
              "<Figure size 720x72 with 0 Axes>"
            ]
          },
          "metadata": {}
        }
      ]
    },
    {
      "cell_type": "code",
      "source": [
        "mse = sqrt(MSE(data.close['2022-08-07':], pred).mean())\n",
        "print('The Mean Squared Error of our forecasts is {}'.format(round(mse, 2)))\n",
        "rmse = sqrt(MSE(data.close['2022-08-07':], pred,squared=False).mean())\n",
        "print('The Root Mean Squared Error of our forecasts is {}'.format(round(rmse, 2)))"
      ],
      "metadata": {
        "colab": {
          "base_uri": "https://localhost:8080/"
        },
        "outputId": "ef64f42a-eb0d-4469-a2ff-6d5a1d0b2718",
        "id": "5-dKExFLHYU1"
      },
      "execution_count": 441,
      "outputs": [
        {
          "output_type": "stream",
          "name": "stdout",
          "text": [
            "The Mean Squared Error of our forecasts is 43.85\n",
            "The Root Mean Squared Error of our forecasts is 6.62\n"
          ]
        }
      ]
    },
    {
      "cell_type": "markdown",
      "source": [
        "#Dynamic Forecast"
      ],
      "metadata": {
        "id": "F14-XddwHa3H"
      }
    },
    {
      "cell_type": "code",
      "source": [
        "pred_dynamic = results.predict(start='2022-08-07' ,end='2022-11-27', dynamic= True)  \n",
        "pred_future=results.predict(start='2022-11-27',end='2023-01-08',dynamic= True)\n",
        "\n"
      ],
      "metadata": {
        "colab": {
          "base_uri": "https://localhost:8080/"
        },
        "outputId": "55e29a55-93fa-4855-d90e-21cfd3c7db8e",
        "id": "83LPZtB9Ha3I"
      },
      "execution_count": 442,
      "outputs": [
        {
          "output_type": "stream",
          "name": "stderr",
          "text": [
            "/usr/local/lib/python3.8/dist-packages/statsmodels/tsa/base/tsa_model.py:132: FutureWarning: The 'freq' argument in Timestamp is deprecated and will be removed in a future version.\n",
            "  date_key = Timestamp(key, freq=base_index.freq)\n"
          ]
        }
      ]
    },
    {
      "cell_type": "code",
      "source": [
        "frame = { 'Actual': data.close['2022-08-07':], 'Predict': pred_dynamic }\n",
        "#Creating Dataframe\n",
        "predict = pd.DataFrame(frame)\n",
        "predict.to_csv('non.csv')\n",
        "frame = { 'Forecast': pred_future }\n",
        "#Creating Dataframe\n",
        "forecast = pd.DataFrame(frame)\n",
        "forecast.to_csv('fore_non.csv')"
      ],
      "metadata": {
        "id": "SynX5jszHa3J"
      },
      "execution_count": 443,
      "outputs": []
    },
    {
      "cell_type": "code",
      "source": [
        "plt.plot(data['close'],color='blue')\n",
        "plt.plot(pred_dynamic,color='yellow')\n",
        "plt.plot(pred_future,color='red')\n",
        "plt.xticks(rotation=3)\n",
        "plt.xlabel(\"Months\")\n",
        "plt.ylabel(\"Cumulative confirmed cases\")\n",
        "plt.legend(['Actual','Predicted', 'Forecast'])\n",
        "fig = plt.figure(figsize=(10, 1))\n",
        "fig.show()"
      ],
      "metadata": {
        "colab": {
          "base_uri": "https://localhost:8080/",
          "height": 299
        },
        "outputId": "8c78dd68-4abc-4c16-bee4-8089c869604e",
        "id": "f5LiLPPeHa3K"
      },
      "execution_count": 444,
      "outputs": [
        {
          "output_type": "display_data",
          "data": {
            "text/plain": [
              "<Figure size 432x288 with 1 Axes>"
            ],
            "image/png": "[encoded data removed]"
          },
          "metadata": {
            "needs_background": "light"
          }
        },
        {
          "output_type": "display_data",
          "data": {
            "text/plain": [
              "<Figure size 720x72 with 0 Axes>"
            ]
          },
          "metadata": {}
        }
      ]
    },
    {
      "cell_type": "code",
      "source": [
        "mse = sqrt(MSE(data.close['2022-08-07':], pred_dynamic).mean())\n",
        "print('The Mean Mean Squared Error of our forecasts is {}'.format(round(mse, 2)))\n",
        "rmse = sqrt(MSE(data.close['2022-08-07':], pred_dynamic,squared=False).mean())\n",
        "print('The Root Mean Squared Error of our forecasts is {}'.format(round(rmse, 2)))"
      ],
      "metadata": {
        "colab": {
          "base_uri": "https://localhost:8080/"
        },
        "outputId": "4cbc9068-aa2b-44ae-a644-5b83b46079cf",
        "id": "h4T-H5-yHa3K"
      },
      "execution_count": 445,
      "outputs": [
        {
          "output_type": "stream",
          "name": "stdout",
          "text": [
            "The Mean Mean Squared Error of our forecasts is 187.52\n",
            "The Root Mean Squared Error of our forecasts is 13.69\n"
          ]
        }
      ]
    }
  ]
}